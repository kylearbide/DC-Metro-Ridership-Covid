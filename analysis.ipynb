{
 "cells": [
  {
   "cell_type": "code",
   "execution_count": 6,
   "metadata": {},
   "outputs": [],
   "source": [
    "import pandas as pd\n",
    "import os"
   ]
  },
  {
   "cell_type": "code",
   "execution_count": 33,
   "metadata": {},
   "outputs": [
    {
     "data": {
      "text/html": [
       "<div>\n",
       "<style scoped>\n",
       "    .dataframe tbody tr th:only-of-type {\n",
       "        vertical-align: middle;\n",
       "    }\n",
       "\n",
       "    .dataframe tbody tr th {\n",
       "        vertical-align: top;\n",
       "    }\n",
       "\n",
       "    .dataframe thead th {\n",
       "        text-align: right;\n",
       "    }\n",
       "</style>\n",
       "<table border=\"1\" class=\"dataframe\">\n",
       "  <thead>\n",
       "    <tr style=\"text-align: right;\">\n",
       "      <th></th>\n",
       "      <th>Date</th>\n",
       "      <th>Total Entries</th>\n",
       "      <th>Total Exits</th>\n",
       "      <th>Station</th>\n",
       "      <th>Location</th>\n",
       "    </tr>\n",
       "  </thead>\n",
       "  <tbody>\n",
       "    <tr>\n",
       "      <th>0</th>\n",
       "      <td>1/1/2019</td>\n",
       "      <td>866</td>\n",
       "      <td>884</td>\n",
       "      <td>brookland cua</td>\n",
       "      <td>outdoor</td>\n",
       "    </tr>\n",
       "    <tr>\n",
       "      <th>1</th>\n",
       "      <td>1/2/2019</td>\n",
       "      <td>3,645</td>\n",
       "      <td>3,723</td>\n",
       "      <td>brookland cua</td>\n",
       "      <td>outdoor</td>\n",
       "    </tr>\n",
       "    <tr>\n",
       "      <th>2</th>\n",
       "      <td>1/3/2019</td>\n",
       "      <td>4,085</td>\n",
       "      <td>4,092</td>\n",
       "      <td>brookland cua</td>\n",
       "      <td>outdoor</td>\n",
       "    </tr>\n",
       "    <tr>\n",
       "      <th>3</th>\n",
       "      <td>1/4/2019</td>\n",
       "      <td>4,035</td>\n",
       "      <td>3,948</td>\n",
       "      <td>brookland cua</td>\n",
       "      <td>outdoor</td>\n",
       "    </tr>\n",
       "    <tr>\n",
       "      <th>4</th>\n",
       "      <td>1/5/2019</td>\n",
       "      <td>1,608</td>\n",
       "      <td>1,483</td>\n",
       "      <td>brookland cua</td>\n",
       "      <td>outdoor</td>\n",
       "    </tr>\n",
       "  </tbody>\n",
       "</table>\n",
       "</div>"
      ],
      "text/plain": [
       "       Date Total Entries Total Exits        Station Location\n",
       "0  1/1/2019           866         884  brookland cua  outdoor\n",
       "1  1/2/2019         3,645       3,723  brookland cua  outdoor\n",
       "2  1/3/2019         4,085       4,092  brookland cua  outdoor\n",
       "3  1/4/2019         4,035       3,948  brookland cua  outdoor\n",
       "4  1/5/2019         1,608       1,483  brookland cua  outdoor"
      ]
     },
     "execution_count": 33,
     "metadata": {},
     "output_type": "execute_result"
    }
   ],
   "source": [
    "# Load the Metro rail and Metro Bus datasets\n",
    "metrorail_df = pd.read_csv(\"data/Metrorail daily ridership.csv\",names=[\"Date\",\"Total Entries\", \"Total Exits\"],header=0)\n",
    "metrobus_df = pd.read_csv(\"data/Metrobus daily ridership.csv\",names=[\"Date\",\"Total Entries\"])\n",
    "# Load the metrorail ridership for the individual stations, collect into one dataframe\n",
    "li = []\n",
    "paths = [\"data/\" + path for path in os.listdir(\"./data\") if not path in [\"Metrorail daily ridership.csv\",\"Metrobus daily ridership.csv\"]]\n",
    "for path in paths:\n",
    "    station_df = pd.read_csv(path,names=[\"Date\",\"Total Entries\", \"Total Exits\"],header=0)\n",
    "    station = path[31:]\n",
    "    station_df['Station'] = station.rsplit(\" \",1)[0]\n",
    "    station_df['Location'] = station.rsplit(\" \",1)[1][:-4]\n",
    "    li.append(station_df)\n",
    "metrorail_station_df = pd.concat(li)\n",
    "metrorail_station_df.head()"
   ]
  }
 ],
 "metadata": {
  "kernelspec": {
   "display_name": "py38",
   "language": "python",
   "name": "python3"
  },
  "language_info": {
   "codemirror_mode": {
    "name": "ipython",
    "version": 3
   },
   "file_extension": ".py",
   "mimetype": "text/x-python",
   "name": "python",
   "nbconvert_exporter": "python",
   "pygments_lexer": "ipython3",
   "version": "3.8.2"
  },
  "orig_nbformat": 4
 },
 "nbformat": 4,
 "nbformat_minor": 2
}
