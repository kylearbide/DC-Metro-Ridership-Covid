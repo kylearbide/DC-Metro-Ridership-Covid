{
 "cells": [
  {
   "cell_type": "code",
   "execution_count": 31,
   "metadata": {},
   "outputs": [],
   "source": [
    "import pandas as pd\n",
    "import matplotlib.pyplot as plt\n",
    "import os\n",
    "import numpy as np"
   ]
  },
  {
   "cell_type": "code",
   "execution_count": 2,
   "metadata": {},
   "outputs": [
    {
     "data": {
      "text/html": [
       "<div>\n",
       "<style scoped>\n",
       "    .dataframe tbody tr th:only-of-type {\n",
       "        vertical-align: middle;\n",
       "    }\n",
       "\n",
       "    .dataframe tbody tr th {\n",
       "        vertical-align: top;\n",
       "    }\n",
       "\n",
       "    .dataframe thead th {\n",
       "        text-align: right;\n",
       "    }\n",
       "</style>\n",
       "<table border=\"1\" class=\"dataframe\">\n",
       "  <thead>\n",
       "    <tr style=\"text-align: right;\">\n",
       "      <th></th>\n",
       "      <th>Date</th>\n",
       "      <th>Total Entries</th>\n",
       "      <th>Total Exits</th>\n",
       "      <th>Station</th>\n",
       "      <th>Location</th>\n",
       "    </tr>\n",
       "  </thead>\n",
       "  <tbody>\n",
       "    <tr>\n",
       "      <th>0</th>\n",
       "      <td>1/1/2019</td>\n",
       "      <td>866</td>\n",
       "      <td>884</td>\n",
       "      <td>brookland cua</td>\n",
       "      <td>outdoor</td>\n",
       "    </tr>\n",
       "    <tr>\n",
       "      <th>1</th>\n",
       "      <td>1/2/2019</td>\n",
       "      <td>3,645</td>\n",
       "      <td>3,723</td>\n",
       "      <td>brookland cua</td>\n",
       "      <td>outdoor</td>\n",
       "    </tr>\n",
       "    <tr>\n",
       "      <th>2</th>\n",
       "      <td>1/3/2019</td>\n",
       "      <td>4,085</td>\n",
       "      <td>4,092</td>\n",
       "      <td>brookland cua</td>\n",
       "      <td>outdoor</td>\n",
       "    </tr>\n",
       "    <tr>\n",
       "      <th>3</th>\n",
       "      <td>1/4/2019</td>\n",
       "      <td>4,035</td>\n",
       "      <td>3,948</td>\n",
       "      <td>brookland cua</td>\n",
       "      <td>outdoor</td>\n",
       "    </tr>\n",
       "    <tr>\n",
       "      <th>4</th>\n",
       "      <td>1/5/2019</td>\n",
       "      <td>1,608</td>\n",
       "      <td>1,483</td>\n",
       "      <td>brookland cua</td>\n",
       "      <td>outdoor</td>\n",
       "    </tr>\n",
       "  </tbody>\n",
       "</table>\n",
       "</div>"
      ],
      "text/plain": [
       "       Date Total Entries Total Exits        Station Location\n",
       "0  1/1/2019           866         884  brookland cua  outdoor\n",
       "1  1/2/2019         3,645       3,723  brookland cua  outdoor\n",
       "2  1/3/2019         4,085       4,092  brookland cua  outdoor\n",
       "3  1/4/2019         4,035       3,948  brookland cua  outdoor\n",
       "4  1/5/2019         1,608       1,483  brookland cua  outdoor"
      ]
     },
     "execution_count": 2,
     "metadata": {},
     "output_type": "execute_result"
    }
   ],
   "source": [
    "# Load the Metro rail and Metro Bus datasets\n",
    "metrorail_df = pd.read_csv(\"data/Metrorail daily ridership.csv\",names=[\"Date\",\"Total Entries\", \"Total Exits\"],header=0)\n",
    "metrobus_df = pd.read_csv(\"data/Metrobus daily ridership.csv\",names=[\"Date\",\"Total Entries\"])\n",
    "# Load the metrorail ridership for the individual stations, collect into one dataframe\n",
    "li = []\n",
    "paths = [\"data/\" + path for path in os.listdir(\"./data\") if not path in [\"Metrorail daily ridership.csv\",\"Metrobus daily ridership.csv\"]]\n",
    "for path in paths:\n",
    "    station_df = pd.read_csv(path,names=[\"Date\",\"Total Entries\", \"Total Exits\"],header=0)\n",
    "    station = path[31:]\n",
    "    station_df['Station'] = station.rsplit(\" \",1)[0]\n",
    "    station_df['Location'] = station.rsplit(\" \",1)[1][:-4]\n",
    "    li.append(station_df)\n",
    "metrorail_station_df = pd.concat(li)\n",
    "metrorail_station_df.head()"
   ]
  },
  {
   "cell_type": "code",
   "execution_count": 3,
   "metadata": {},
   "outputs": [],
   "source": [
    "# Set Dates\n",
    "metrorail_station_df[\"Date\"] = pd.to_datetime(metrorail_station_df[\"Date\"])\n",
    "metrorail_df[\"Date\"] = pd.to_datetime(metrorail_df[\"Date\"])\n",
    "metrobus_df[\"Date\"] = pd.to_datetime(metrobus_df[\"Date\"])\n",
    "# Set Entries/Exits dtype\n",
    "metrobus_df['Total Entries'] = pd.to_numeric(metrobus_df['Total Entries'].str.replace(\",\",\"\"))\n",
    "metrorail_df['Total Entries'] = pd.to_numeric(metrorail_df['Total Entries'].str.replace(\",\",\"\"))\n",
    "metrorail_station_df['Total Entries'] = pd.to_numeric(metrorail_station_df['Total Entries'].str.replace(\",\",\"\"))"
   ]
  },
  {
   "cell_type": "code",
   "execution_count": 4,
   "metadata": {},
   "outputs": [],
   "source": [
    "# Get Day of the Week\n",
    "metrorail_station_df['DOTW'] = metrorail_station_df['Date'].dt.day_name()\n",
    "metrorail_df['DOTW'] = metrorail_df['Date'].dt.day_name()\n",
    "metrobus_df['DOTW'] = metrobus_df['Date'].dt.day_name()"
   ]
  },
  {
   "cell_type": "code",
   "execution_count": 5,
   "metadata": {},
   "outputs": [],
   "source": [
    "# Comparing January-> June of 2019 - 2020\n",
    "metrorail_2020 = metrorail_df.loc[(metrorail_df['Date'] >= '1/1/2020') & (metrorail_df['Date'] < '7/1/2020')]\n",
    "metrorail_2019 = metrorail_df.loc[(metrorail_df['Date'] >= '1/1/2019') & (metrorail_df['Date'] < '7/1/2019')]\n",
    "metrobus_2020 = metrobus_df.loc[(metrobus_df['Date'] >= '1/1/2020') & (metrobus_df['Date'] < '7/1/2020')]\n",
    "metrobus_2019 = metrobus_df.loc[(metrobus_df['Date'] >= '1/1/2019') & (metrobus_df['Date'] < '7/1/2019')]\n",
    "\n",
    "# Group by month\n",
    "rail_2020_monthly = metrorail_2020.groupby(pd.PeriodIndex(metrorail_2020['Date'], freq=\"M\"))['Total Entries'].mean().reset_index()\n",
    "rail_2019_monthly = metrorail_2019.groupby(pd.PeriodIndex(metrorail_2019['Date'], freq=\"M\"))['Total Entries'].mean().reset_index()\n",
    "bus_2020_monthly = metrobus_2020.groupby(pd.PeriodIndex(metrobus_2020['Date'], freq=\"M\"))['Total Entries'].mean().reset_index()\n",
    "bus_2019_monthly = metrobus_2019.groupby(pd.PeriodIndex(metrobus_2019['Date'], freq=\"M\"))['Total Entries'].mean().reset_index()"
   ]
  },
  {
   "cell_type": "code",
   "execution_count": 6,
   "metadata": {},
   "outputs": [],
   "source": [
    "rail_2020_monthly['Month'] = ['January',\"February\",\"March\",\"April\",\"May\",'June']\n",
    "rail_2019_monthly['Month'] = ['January',\"February\",\"March\",\"April\",\"May\",'June']\n",
    "bus_2020_monthly['Month'] = ['January',\"February\",\"March\",\"April\",\"May\",'June']\n",
    "bus_2019_monthly['Month'] = ['January',\"February\",\"March\",\"April\",\"May\",'June']"
   ]
  },
  {
   "cell_type": "code",
   "execution_count": 28,
   "metadata": {},
   "outputs": [
    {
     "data": {
      "text/plain": [
       "<matplotlib.legend.Legend at 0x2079d96cac0>"
      ]
     },
     "execution_count": 28,
     "metadata": {},
     "output_type": "execute_result"
    },
    {
     "data": {
      "image/png": "[encoded data removed]",
      "text/plain": [
       "<Figure size 432x288 with 1 Axes>"
      ]
     },
     "metadata": {
      "needs_background": "light"
     },
     "output_type": "display_data"
    }
   ],
   "source": [
    "fig, ax = plt.subplots()\n",
    "ax.plot(rail_2020_monthly['Month'],pd.to_numeric(rail_2020_monthly['Total Entries']),label=\"Metrorail 2020\",marker='o')\n",
    "ax.plot(rail_2019_monthly['Month'],pd.to_numeric(rail_2019_monthly['Total Entries']),label=\"Metrorail 2019\",marker='o')\n",
    "ax.plot(bus_2020_monthly['Month'],pd.to_numeric(bus_2020_monthly['Total Entries']),label=\"Metrobus 2020\",marker='x')\n",
    "ax.plot(bus_2019_monthly['Month'],pd.to_numeric(bus_2019_monthly['Total Entries']),label=\"Metrobus 2019\",marker='x')\n",
    "ax.set_title(\"Difference between Monthly Average Ridership 2019-2020\")\n",
    "ax.set_xlabel(\"Month\")\n",
    "ax.set_ylabel(\"Average # of entries per month\")\n",
    "ax.legend()\n"
   ]
  },
  {
   "cell_type": "code",
   "execution_count": 8,
   "metadata": {},
   "outputs": [
    {
     "data": {
      "text/html": [
       "<div>\n",
       "<style scoped>\n",
       "    .dataframe tbody tr th:only-of-type {\n",
       "        vertical-align: middle;\n",
       "    }\n",
       "\n",
       "    .dataframe tbody tr th {\n",
       "        vertical-align: top;\n",
       "    }\n",
       "\n",
       "    .dataframe thead th {\n",
       "        text-align: right;\n",
       "    }\n",
       "</style>\n",
       "<table border=\"1\" class=\"dataframe\">\n",
       "  <thead>\n",
       "    <tr style=\"text-align: right;\">\n",
       "      <th></th>\n",
       "      <th>Date_x</th>\n",
       "      <th>Total Entries_x</th>\n",
       "      <th>Month</th>\n",
       "      <th>Date_y</th>\n",
       "      <th>Total Entries_y</th>\n",
       "      <th>Drop</th>\n",
       "    </tr>\n",
       "  </thead>\n",
       "  <tbody>\n",
       "    <tr>\n",
       "      <th>0</th>\n",
       "      <td>2020-01</td>\n",
       "      <td>276863.419355</td>\n",
       "      <td>January</td>\n",
       "      <td>2019-01</td>\n",
       "      <td>260306.032258</td>\n",
       "      <td>-0.063607</td>\n",
       "    </tr>\n",
       "    <tr>\n",
       "      <th>1</th>\n",
       "      <td>2020-02</td>\n",
       "      <td>280077.896552</td>\n",
       "      <td>February</td>\n",
       "      <td>2019-02</td>\n",
       "      <td>279777.107143</td>\n",
       "      <td>-0.001075</td>\n",
       "    </tr>\n",
       "    <tr>\n",
       "      <th>2</th>\n",
       "      <td>2020-03</td>\n",
       "      <td>155232.741935</td>\n",
       "      <td>March</td>\n",
       "      <td>2019-03</td>\n",
       "      <td>291050.967742</td>\n",
       "      <td>0.466648</td>\n",
       "    </tr>\n",
       "    <tr>\n",
       "      <th>3</th>\n",
       "      <td>2020-04</td>\n",
       "      <td>2557.033333</td>\n",
       "      <td>April</td>\n",
       "      <td>2019-04</td>\n",
       "      <td>306510.533333</td>\n",
       "      <td>0.991658</td>\n",
       "    </tr>\n",
       "    <tr>\n",
       "      <th>4</th>\n",
       "      <td>2020-05</td>\n",
       "      <td>14983.419355</td>\n",
       "      <td>May</td>\n",
       "      <td>2019-05</td>\n",
       "      <td>307176.870968</td>\n",
       "      <td>0.951222</td>\n",
       "    </tr>\n",
       "    <tr>\n",
       "      <th>5</th>\n",
       "      <td>2020-06</td>\n",
       "      <td>19917.133333</td>\n",
       "      <td>June</td>\n",
       "      <td>2019-06</td>\n",
       "      <td>292807.800000</td>\n",
       "      <td>0.931979</td>\n",
       "    </tr>\n",
       "  </tbody>\n",
       "</table>\n",
       "</div>"
      ],
      "text/plain": [
       "    Date_x  Total Entries_x     Month   Date_y  Total Entries_y      Drop\n",
       "0  2020-01    276863.419355   January  2019-01    260306.032258 -0.063607\n",
       "1  2020-02    280077.896552  February  2019-02    279777.107143 -0.001075\n",
       "2  2020-03    155232.741935     March  2019-03    291050.967742  0.466648\n",
       "3  2020-04      2557.033333     April  2019-04    306510.533333  0.991658\n",
       "4  2020-05     14983.419355       May  2019-05    307176.870968  0.951222\n",
       "5  2020-06     19917.133333      June  2019-06    292807.800000  0.931979"
      ]
     },
     "execution_count": 8,
     "metadata": {},
     "output_type": "execute_result"
    }
   ],
   "source": [
    "metrobus_drops = bus_2020_monthly.merge(bus_2019_monthly,on=\"Month\")\n",
    "metrobus_drops['Drop'] = (metrobus_drops['Total Entries_y'] - metrobus_drops[\"Total Entries_x\"])/ metrobus_drops['Total Entries_y']\n",
    "metrobus_drops"
   ]
  },
  {
   "cell_type": "code",
   "execution_count": 10,
   "metadata": {},
   "outputs": [
    {
     "data": {
      "text/html": [
       "<div>\n",
       "<style scoped>\n",
       "    .dataframe tbody tr th:only-of-type {\n",
       "        vertical-align: middle;\n",
       "    }\n",
       "\n",
       "    .dataframe tbody tr th {\n",
       "        vertical-align: top;\n",
       "    }\n",
       "\n",
       "    .dataframe thead th {\n",
       "        text-align: right;\n",
       "    }\n",
       "</style>\n",
       "<table border=\"1\" class=\"dataframe\">\n",
       "  <thead>\n",
       "    <tr style=\"text-align: right;\">\n",
       "      <th></th>\n",
       "      <th>Date_x</th>\n",
       "      <th>Total Entries_x</th>\n",
       "      <th>Month</th>\n",
       "      <th>Date_y</th>\n",
       "      <th>Total Entries_y</th>\n",
       "      <th>Drop</th>\n",
       "    </tr>\n",
       "  </thead>\n",
       "  <tbody>\n",
       "    <tr>\n",
       "      <th>0</th>\n",
       "      <td>2020-01</td>\n",
       "      <td>496778.900000</td>\n",
       "      <td>January</td>\n",
       "      <td>2019-01</td>\n",
       "      <td>413842.266667</td>\n",
       "      <td>-0.200406</td>\n",
       "    </tr>\n",
       "    <tr>\n",
       "      <th>1</th>\n",
       "      <td>2020-02</td>\n",
       "      <td>497469.535714</td>\n",
       "      <td>February</td>\n",
       "      <td>2019-02</td>\n",
       "      <td>461234.185185</td>\n",
       "      <td>-0.078562</td>\n",
       "    </tr>\n",
       "    <tr>\n",
       "      <th>2</th>\n",
       "      <td>2020-03</td>\n",
       "      <td>246550.774194</td>\n",
       "      <td>March</td>\n",
       "      <td>2019-03</td>\n",
       "      <td>504340.451613</td>\n",
       "      <td>0.511142</td>\n",
       "    </tr>\n",
       "    <tr>\n",
       "      <th>3</th>\n",
       "      <td>2020-04</td>\n",
       "      <td>30030.033333</td>\n",
       "      <td>April</td>\n",
       "      <td>2019-04</td>\n",
       "      <td>562874.966667</td>\n",
       "      <td>0.946649</td>\n",
       "    </tr>\n",
       "    <tr>\n",
       "      <th>4</th>\n",
       "      <td>2020-05</td>\n",
       "      <td>31259.516129</td>\n",
       "      <td>May</td>\n",
       "      <td>2019-05</td>\n",
       "      <td>518693.709677</td>\n",
       "      <td>0.939734</td>\n",
       "    </tr>\n",
       "    <tr>\n",
       "      <th>5</th>\n",
       "      <td>2020-06</td>\n",
       "      <td>46378.633333</td>\n",
       "      <td>June</td>\n",
       "      <td>2019-06</td>\n",
       "      <td>520081.033333</td>\n",
       "      <td>0.910824</td>\n",
       "    </tr>\n",
       "  </tbody>\n",
       "</table>\n",
       "</div>"
      ],
      "text/plain": [
       "    Date_x  Total Entries_x     Month   Date_y  Total Entries_y      Drop\n",
       "0  2020-01    496778.900000   January  2019-01    413842.266667 -0.200406\n",
       "1  2020-02    497469.535714  February  2019-02    461234.185185 -0.078562\n",
       "2  2020-03    246550.774194     March  2019-03    504340.451613  0.511142\n",
       "3  2020-04     30030.033333     April  2019-04    562874.966667  0.946649\n",
       "4  2020-05     31259.516129       May  2019-05    518693.709677  0.939734\n",
       "5  2020-06     46378.633333      June  2019-06    520081.033333  0.910824"
      ]
     },
     "execution_count": 10,
     "metadata": {},
     "output_type": "execute_result"
    }
   ],
   "source": [
    "metrorail_drops = rail_2020_monthly.merge(rail_2019_monthly,on=\"Month\")\n",
    "metrorail_drops['Drop'] = (metrorail_drops['Total Entries_y'] - metrorail_drops[\"Total Entries_x\"])/ metrorail_drops['Total Entries_y']\n",
    "metrorail_drops"
   ]
  },
  {
   "cell_type": "code",
   "execution_count": 16,
   "metadata": {},
   "outputs": [],
   "source": [
    "rail_means_2019 = metrorail_2019.groupby(['DOTW'])['Total Entries'].mean().reset_index().rename(columns={\"Total Entries\":\"Mean\"})\n",
    "rail_means_2020 = metrorail_2020.groupby(['DOTW'])['Total Entries'].mean().reset_index().rename(columns={\"Total Entries\":\"Mean\"})\n",
    "bus_means_2019 = metrobus_2019.groupby(['DOTW'])['Total Entries'].mean().reset_index().rename(columns={\"Total Entries\":\"Mean\"})\n",
    "bus_means_2020 = metrobus_2020.groupby(['DOTW'])['Total Entries'].mean().reset_index().rename(columns={\"Total Entries\":\"Mean\"})\n",
    "\n",
    "metrobus_2019 = metrobus_2019.merge(bus_means_2019, on=\"DOTW\")\n",
    "metrobus_2020 = metrobus_2020.merge(bus_means_2020, on=\"DOTW\")\n",
    "metrorail_2019 = metrorail_2019.merge(rail_means_2019, on=\"DOTW\")\n",
    "metrorail_2020 = metrorail_2020.merge(rail_means_2020, on=\"DOTW\")"
   ]
  },
  {
   "cell_type": "code",
   "execution_count": 19,
   "metadata": {},
   "outputs": [],
   "source": [
    "metrobus_2019['Norm Entries'] = metrobus_2019['Total Entries'] / (metrobus_2019[\"Mean\"]/metrobus_2019['Total Entries'].mean())\n",
    "metrobus_2020['Norm Entries'] = metrobus_2020['Total Entries'] / (metrobus_2020[\"Mean\"]/metrobus_2020['Total Entries'].mean())\n",
    "metrorail_2019['Norm Entries'] = metrorail_2019['Total Entries'] / (metrorail_2019[\"Mean\"]/metrorail_2019['Total Entries'].mean())\n",
    "metrorail_2020['Norm Entries'] = metrorail_2020['Total Entries'] / (metrorail_2020[\"Mean\"]/metrorail_2020['Total Entries'].mean())"
   ]
  },
  {
   "cell_type": "code",
   "execution_count": 22,
   "metadata": {},
   "outputs": [
    {
     "data": {
      "text/html": [
       "<div>\n",
       "<style scoped>\n",
       "    .dataframe tbody tr th:only-of-type {\n",
       "        vertical-align: middle;\n",
       "    }\n",
       "\n",
       "    .dataframe tbody tr th {\n",
       "        vertical-align: top;\n",
       "    }\n",
       "\n",
       "    .dataframe thead th {\n",
       "        text-align: right;\n",
       "    }\n",
       "</style>\n",
       "<table border=\"1\" class=\"dataframe\">\n",
       "  <thead>\n",
       "    <tr style=\"text-align: right;\">\n",
       "      <th></th>\n",
       "      <th>Date</th>\n",
       "      <th>Total Entries</th>\n",
       "      <th>Total Exits</th>\n",
       "      <th>DOTW</th>\n",
       "      <th>Mean</th>\n",
       "      <th>Norm Entries</th>\n",
       "    </tr>\n",
       "  </thead>\n",
       "  <tbody>\n",
       "    <tr>\n",
       "      <th>0</th>\n",
       "      <td>2020-01-01</td>\n",
       "      <td>130337</td>\n",
       "      <td>128,280</td>\n",
       "      <td>Wednesday</td>\n",
       "      <td>284104.461538</td>\n",
       "      <td>101277.055999</td>\n",
       "    </tr>\n",
       "    <tr>\n",
       "      <th>26</th>\n",
       "      <td>2020-01-02</td>\n",
       "      <td>499014</td>\n",
       "      <td>493,742</td>\n",
       "      <td>Thursday</td>\n",
       "      <td>293865.384615</td>\n",
       "      <td>374874.327604</td>\n",
       "    </tr>\n",
       "    <tr>\n",
       "      <th>52</th>\n",
       "      <td>2020-01-03</td>\n",
       "      <td>488136</td>\n",
       "      <td>483,225</td>\n",
       "      <td>Friday</td>\n",
       "      <td>266435.769231</td>\n",
       "      <td>404454.536546</td>\n",
       "    </tr>\n",
       "    <tr>\n",
       "      <th>78</th>\n",
       "      <td>2020-01-04</td>\n",
       "      <td>188777</td>\n",
       "      <td>186,073</td>\n",
       "      <td>Saturday</td>\n",
       "      <td>104101.115385</td>\n",
       "      <td>400327.200154</td>\n",
       "    </tr>\n",
       "    <tr>\n",
       "      <th>104</th>\n",
       "      <td>2020-01-05</td>\n",
       "      <td>145454</td>\n",
       "      <td>143,348</td>\n",
       "      <td>Sunday</td>\n",
       "      <td>75751.692308</td>\n",
       "      <td>423891.522592</td>\n",
       "    </tr>\n",
       "    <tr>\n",
       "      <th>130</th>\n",
       "      <td>2020-01-06</td>\n",
       "      <td>615835</td>\n",
       "      <td>607,854</td>\n",
       "      <td>Monday</td>\n",
       "      <td>240812.875000</td>\n",
       "      <td>564554.751408</td>\n",
       "    </tr>\n",
       "    <tr>\n",
       "      <th>154</th>\n",
       "      <td>2020-01-07</td>\n",
       "      <td>649476</td>\n",
       "      <td>642,286</td>\n",
       "      <td>Tuesday</td>\n",
       "      <td>281794.807692</td>\n",
       "      <td>508805.178125</td>\n",
       "    </tr>\n",
       "  </tbody>\n",
       "</table>\n",
       "</div>"
      ],
      "text/plain": [
       "          Date  Total Entries Total Exits       DOTW           Mean  \\\n",
       "0   2020-01-01         130337     128,280  Wednesday  284104.461538   \n",
       "26  2020-01-02         499014     493,742   Thursday  293865.384615   \n",
       "52  2020-01-03         488136     483,225     Friday  266435.769231   \n",
       "78  2020-01-04         188777     186,073   Saturday  104101.115385   \n",
       "104 2020-01-05         145454     143,348     Sunday   75751.692308   \n",
       "130 2020-01-06         615835     607,854     Monday  240812.875000   \n",
       "154 2020-01-07         649476     642,286    Tuesday  281794.807692   \n",
       "\n",
       "      Norm Entries  \n",
       "0    101277.055999  \n",
       "26   374874.327604  \n",
       "52   404454.536546  \n",
       "78   400327.200154  \n",
       "104  423891.522592  \n",
       "130  564554.751408  \n",
       "154  508805.178125  "
      ]
     },
     "execution_count": 22,
     "metadata": {},
     "output_type": "execute_result"
    }
   ],
   "source": [
    "metrorail_2020.sort_values(\"Date\").head(7)"
   ]
  },
  {
   "cell_type": "code",
   "execution_count": 25,
   "metadata": {},
   "outputs": [],
   "source": [
    "mask_mandate_bus_df = metrobus_2020[(metrobus_2020['Date'] >= \"2020-05-01\") & (metrobus_2020['Date'] < \"2020-06-01\")].sort_values(\"Date\")\n",
    "mask_mandate_rail_df = metrorail_2020[(metrorail_2020['Date'] >= \"2020-05-01\") & (metrorail_2020['Date'] < \"2020-06-01\")].sort_values(\"Date\")"
   ]
  },
  {
   "cell_type": "code",
   "execution_count": 30,
   "metadata": {},
   "outputs": [
    {
     "data": {
      "text/plain": [
       "<matplotlib.legend.Legend at 0x2079da1d430>"
      ]
     },
     "execution_count": 30,
     "metadata": {},
     "output_type": "execute_result"
    },
    {
     "data": {
      "image/png": "[encoded data removed]",
      "text/plain": [
       "<Figure size 432x288 with 1 Axes>"
      ]
     },
     "metadata": {
      "needs_background": "light"
     },
     "output_type": "display_data"
    }
   ],
   "source": [
    "fig, ax = plt.subplots()\n",
    "ax.plot(mask_mandate_bus_df['Date'],pd.to_numeric(mask_mandate_bus_df['Norm Entries']),label=\"Metrobus\",marker='o')\n",
    "ax.plot(mask_mandate_rail_df['Date'],pd.to_numeric(mask_mandate_rail_df['Norm Entries']),label=\"Metrorail\",marker='x')\n",
    "ax.set_title(\"Normalized Daily Ridership in May 2020\")\n",
    "ax.set_xlabel(\"date\")\n",
    "ax.set_ylabel(\"Normalized # of entries per day\")\n",
    "ax.tick_params(axis='x', rotation=45)\n",
    "ax.legend()"
   ]
  }
 ],
 "metadata": {
  "kernelspec": {
   "display_name": "py38",
   "language": "python",
   "name": "python3"
  },
  "language_info": {
   "codemirror_mode": {
    "name": "ipython",
    "version": 3
   },
   "file_extension": ".py",
   "mimetype": "text/x-python",
   "name": "python",
   "nbconvert_exporter": "python",
   "pygments_lexer": "ipython3",
   "version": "3.8.8"
  },
  "orig_nbformat": 4
 },
 "nbformat": 4,
 "nbformat_minor": 2
}
